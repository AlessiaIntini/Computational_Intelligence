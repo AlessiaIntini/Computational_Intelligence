{
 "cells": [
  {
   "cell_type": "markdown",
   "metadata": {},
   "source": [
    "Intini Alessia s309895 `<s309895@studenti.polito.it>`\\\n",
    "[`https://github.com/AlessiaIntini/Computational_Intelligence.git`](https://github.com/AlessiaIntini/Computational_Intelligence.git)  \n",
    "Development lab #1 with Antonio Iorio s317748"
   ]
  },
  {
   "cell_type": "code",
   "execution_count": 58,
   "metadata": {},
   "outputs": [],
   "source": [
    "from random import random\n",
    "from functools import reduce\n",
    "from collections import namedtuple\n",
    "from queue import PriorityQueue, SimpleQueue, LifoQueue\n",
    "from math import ceil\n",
    "import numpy as np"
   ]
  },
  {
   "cell_type": "markdown",
   "metadata": {},
   "source": [
    "We have decided to use a fixed sets of value to compare the number of steps to resolve the set covering across the 3 different h function. Because when we use a random values we can't compare the efficiency of the every h functions.\\\n",
    "The fixed sets:\n",
    "```python\n",
    "PROBLEM_SIZE = 10  #numero di elementi in ogni array\n",
    "NUM_SETS = 20  #numero di array\n",
    "SETS = (np.array([False,  True, False,  True, False, False, False, False, False,\n",
    "       False]), np.array([ True,  True, False, False, False, False, False,  True, False,\n",
    "        True]), np.array([ True, False,  True, False,  True, False, False, False,  True,\n",
    "       False]), np.array([False,  True, False, False, False, False, False,  True, False,\n",
    "        True]), np.array([ True,  True,  True,  True, False, False, False,  True, False,\n",
    "       False]), np.array([False, False, False,  True, False, False, False, False, False,\n",
    "       False]), np.array([False, False, False, False, False, False,  True, False, False,\n",
    "       False]), np.array([ True, False,  True, False, False, False, False, False, False,\n",
    "       False]), np.array([False,  True,  True,  True,  True, False, False, False,  True,\n",
    "       False]), np.array([False, False, False, False, False, False, False, False, False,\n",
    "       False]), np.array([False, False,  True, False, False, False,  True, False, False,\n",
    "        True]), np.array([False,  True,  True, False, False,  True, False, False,  True,\n",
    "       False]), np.array([False, False,  True, False, False, False, False, False,  True,\n",
    "        True]), np.array([False, False,  True, False,  True, False, False, False, False,\n",
    "       False]), np.array([ True,  True,  True,  True, False, False,  True, False, False,\n",
    "        True]), np.array([False, False, False, False, False, False,  True, False, False,\n",
    "        True]), np.array([ True,  True,  True, False, False,  True, False, False, False,\n",
    "       False]), np.array([False,  True,  True, False, False, False, False, False,  True,\n",
    "       False]), np.array([ True,  True, False,  True, False, False,  True, False, False,\n",
    "       False]), np.array([False, False, False,  True, False, False,  True,  True, False,\n",
    "        True]))\n",
    "```"
   ]
  },
  {
   "cell_type": "code",
   "execution_count": 59,
   "metadata": {},
   "outputs": [],
   "source": [
    "PROBLEM_SIZE = 100  #numero di elementi in ogni array\n",
    "NUM_SETS = 200  #numero di array\n",
    "# SETS = (np.array([False,  True, False,  True, False, False, False, False, False,\n",
    "#        False]), np.array([ True,  True, False, False, False, False, False,  True, False,\n",
    "#         True]), np.array([ True, False,  True, False,  True, False, False, False,  True,\n",
    "#        False]), np.array([False,  True, False, False, False, False, False,  True, False,\n",
    "#         True]), np.array([ True,  True,  True,  True, False, False, False,  True, False,\n",
    "#        False]), np.array([False, False, False,  True, False, False, False, False, False,\n",
    "#        False]), np.array([False, False, False, False, False, False,  True, False, False,\n",
    "#        False]), np.array([ True, False,  True, False, False, False, False, False, False,\n",
    "#        False]), np.array([False,  True,  True,  True,  True, False, False, False,  True,\n",
    "#        False]), np.array([False, False, False, False, False, False, False, False, False,\n",
    "#        False]), np.array([False, False,  True, False, False, False,  True, False, False,\n",
    "#         True]), np.array([False,  True,  True, False, False,  True, False, False,  True,\n",
    "#        False]), np.array([False, False,  True, False, False, False, False, False,  True,\n",
    "#         True]), np.array([False, False,  True, False,  True, False, False, False, False,\n",
    "#        False]), np.array([ True,  True,  True,  True, False, False,  True, False, False,\n",
    "#         True]), np.array([False, False, False, False, False, False,  True, False, False,\n",
    "#         True]), np.array([ True,  True,  True, False, False,  True, False, False, False,\n",
    "#        False]), np.array([False,  True,  True, False, False, False, False, False,  True,\n",
    "#        False]), np.array([ True,  True, False,  True, False, False,  True, False, False,\n",
    "#        False]), np.array([False, False, False,  True, False, False,  True,  True, False,\n",
    "#         True]))\n",
    "\n",
    "SETS = tuple(np.array([random() < 0.2 for _ in range(PROBLEM_SIZE)]) for _ in range(NUM_SETS))\n",
    "\n",
    "State = namedtuple('State', ['taken', 'not_taken'])\n"
   ]
  },
  {
   "cell_type": "code",
   "execution_count": 60,
   "metadata": {},
   "outputs": [],
   "source": [
    "\n",
    "def covered(state):\n",
    "    return reduce(\n",
    "        np.logical_or,\n",
    "        [SETS[i] for i in state.taken],\n",
    "        np.array([False for _ in range(PROBLEM_SIZE)]),\n",
    "    )\n",
    "\n",
    "\n",
    "def goal_check(state):\n",
    "    return np.all(covered(state))"
   ]
  },
  {
   "cell_type": "code",
   "execution_count": 61,
   "metadata": {},
   "outputs": [],
   "source": [
    "assert goal_check(\n",
    "    State(set(range(NUM_SETS)), set())\n",
    "), \"Probelm not solvable\""
   ]
  },
  {
   "cell_type": "code",
   "execution_count": 62,
   "metadata": {},
   "outputs": [],
   "source": [
    "\n",
    "def h1(state):\n",
    "    largest_set_size = max(sum(s) for s in SETS)\n",
    "    missing_size = PROBLEM_SIZE - sum(covered(state))\n",
    "    optimistic_estimate = ceil(missing_size / largest_set_size)\n",
    "    return optimistic_estimate\n",
    "\n",
    "\n",
    "def h2(state):\n",
    "    already_covered = covered(state)\n",
    "    if np.all(already_covered):\n",
    "        return 0\n",
    "    largest_set_size = max(sum(np.logical_and(s, np.logical_not(already_covered))) for s in SETS)\n",
    "    missing_size = PROBLEM_SIZE - sum(already_covered)\n",
    "    optimistic_estimate = ceil(missing_size / largest_set_size)\n",
    "    return optimistic_estimate\n",
    "\n",
    "\n",
    "def h3(state):\n",
    "    already_covered = covered(state)\n",
    "    if np.all(already_covered):\n",
    "        return 0\n",
    "    missing_size = PROBLEM_SIZE - sum(already_covered)\n",
    "    candidates = sorted((sum(np.logical_and(s, np.logical_not(already_covered))) for s in SETS), reverse=True)\n",
    "    taken = 1\n",
    "    while sum(candidates[:taken]) < missing_size:\n",
    "        taken += 1\n",
    "    return taken\n",
    "\n",
    "\n",
    "def distance(state):\n",
    "    return len(state.taken) + h3(state)"
   ]
  },
  {
   "cell_type": "markdown",
   "metadata": {},
   "source": [
    "Result of execution are:\n",
    " - h1 resolve it in 85 steps\n",
    " - h2 resolve it in 9 steps\n",
    " - h3 resolve it in 9 steps"
   ]
  },
  {
   "cell_type": "code",
   "execution_count": 63,
   "metadata": {},
   "outputs": [
    {
     "name": "stdout",
     "output_type": "stream",
     "text": [
      "Solved in 16 steps (3 tiles)\n"
     ]
    }
   ],
   "source": [
    "# frontier = PriorityQueue()\n",
    "frontier = PriorityQueue()\n",
    "#set() crea un set di oggetti\n",
    "state = State(set(), set(range(NUM_SETS))) #State(taken=set(), not_taken={0, 1, 2, 3, 4, 5, 6, 7, 8, 9, 10, 11, 12, 13, 14, 15, 16, 17, 18, 19})\n",
    "frontier.put((distance(state), state)) #(10, State(taken=set(), not_taken={0, 1, 2, 3, 4, 5, 6, 7, 8, 9, 10, 11, 12, 13, 14, 15, 16, 17, 18, 19}))\n",
    "\n",
    "counter = 0\n",
    "_, current_state = frontier.get()\n",
    "while not goal_check(current_state): \n",
    "    counter += 1 #quante operazioni ci sono volute\n",
    "    for action in current_state[1]:\n",
    "        new_state = State(\n",
    "            current_state.taken ^ {action},\n",
    "            current_state.not_taken ^ {action},\n",
    "        )\n",
    "        frontier.put((distance(new_state), new_state))\n",
    "    _, current_state = frontier.get()\n",
    "\n",
    "print(\n",
    "    f\"Solved in {counter:,} steps ({len(current_state.taken)} tiles)\"\n",
    ")"
   ]
  },
  {
   "cell_type": "code",
   "execution_count": 64,
   "metadata": {},
   "outputs": [
    {
     "data": {
      "text/plain": [
       "State(taken={2, 110, 54}, not_taken={0, 1, 3, 4, 5, 6, 7, 8, 9, 10, 11, 12, 13, 14, 15, 16, 17, 18, 19, 20, 21, 22, 23, 24, 25, 26, 27, 28, 29, 30, 31, 32, 33, 34, 35, 36, 37, 38, 39, 40, 41, 42, 43, 44, 45, 46, 47, 48, 49, 50, 51, 52, 53, 55, 56, 57, 58, 59, 60, 61, 62, 63, 64, 65, 66, 67, 68, 69, 70, 71, 72, 73, 74, 75, 76, 77, 78, 79, 80, 81, 82, 83, 84, 85, 86, 87, 88, 89, 90, 91, 92, 93, 94, 95, 96, 97, 98, 99, 100, 101, 102, 103, 104, 105, 106, 107, 108, 109, 111, 112, 113, 114, 115, 116, 117, 118, 119, 120, 121, 122, 123, 124, 125, 126, 127, 128, 129, 130, 131, 132, 133, 134, 135, 136, 137, 138, 139, 140, 141, 142, 143, 144, 145, 146, 147, 148, 149, 150, 151, 152, 153, 154, 155, 156, 157, 158, 159, 160, 161, 162, 163, 164, 165, 166, 167, 168, 169, 170, 171, 172, 173, 174, 175, 176, 177, 178, 179, 180, 181, 182, 183, 184, 185, 186, 187, 188, 189, 190, 191, 192, 193, 194, 195, 196, 197, 198, 199})"
      ]
     },
     "execution_count": 64,
     "metadata": {},
     "output_type": "execute_result"
    }
   ],
   "source": [
    "current_state"
   ]
  },
  {
   "cell_type": "code",
   "execution_count": 65,
   "metadata": {},
   "outputs": [
    {
     "data": {
      "text/plain": [
       "array([False, False, False, False, False, False, False, False, False,\n",
       "       False])"
      ]
     },
     "execution_count": 65,
     "metadata": {},
     "output_type": "execute_result"
    }
   ],
   "source": [
    "SETS[0]"
   ]
  }
 ],
 "metadata": {
  "kernelspec": {
   "display_name": "ci-P-7LqQ3C-py3.11",
   "language": "python",
   "name": "python3"
  },
  "language_info": {
   "codemirror_mode": {
    "name": "ipython",
    "version": 3
   },
   "file_extension": ".py",
   "mimetype": "text/x-python",
   "name": "python",
   "nbconvert_exporter": "python",
   "pygments_lexer": "ipython3",
   "version": "3.10.10"
  }
 },
 "nbformat": 4,
 "nbformat_minor": 2
}
