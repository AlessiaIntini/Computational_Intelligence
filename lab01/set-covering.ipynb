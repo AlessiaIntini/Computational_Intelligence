{
 "cells": [
  {
   "cell_type": "markdown",
   "metadata": {},
   "source": [
    "Intini Alessia s309895 `<s309895@studenti.polito.it>`\\\n",
    "[`https://github.com/AlessiaIntini/Computational_Intelligence.git`](https://github.com/AlessiaIntini/Computational_Intelligence.git)  \n",
    "Development lab #1 with Antonio Iorio s317748"
   ]
  },
  {
   "cell_type": "code",
   "execution_count": 66,
   "metadata": {},
   "outputs": [],
   "source": [
    "from random import random\n",
    "from functools import reduce\n",
    "from collections import namedtuple\n",
    "from queue import PriorityQueue, SimpleQueue, LifoQueue\n",
    "from math import ceil\n",
    "import numpy as np"
   ]
  },
  {
   "cell_type": "markdown",
   "metadata": {},
   "source": [
    "We have decided to use a fixed sets of value to compare the number of steps to resolve the set covering across the 3 different h function. Because when we use a random values we can't compare the efficiency of the every h functions.\\\n",
    "The fixed sets:\n",
    "```python\n",
    "PROBLEM_SIZE = 10  #numero di elementi in ogni array\n",
    "NUM_SETS = 20  #numero di array\n",
    "SETS = (np.array([False,  True, False,  True, False, False, False, False, False,\n",
    "       False]), np.array([ True,  True, False, False, False, False, False,  True, False,\n",
    "        True]), np.array([ True, False,  True, False,  True, False, False, False,  True,\n",
    "       False]), np.array([False,  True, False, False, False, False, False,  True, False,\n",
    "        True]), np.array([ True,  True,  True,  True, False, False, False,  True, False,\n",
    "       False]), np.array([False, False, False,  True, False, False, False, False, False,\n",
    "       False]), np.array([False, False, False, False, False, False,  True, False, False,\n",
    "       False]), np.array([ True, False,  True, False, False, False, False, False, False,\n",
    "       False]), np.array([False,  True,  True,  True,  True, False, False, False,  True,\n",
    "       False]), np.array([False, False, False, False, False, False, False, False, False,\n",
    "       False]), np.array([False, False,  True, False, False, False,  True, False, False,\n",
    "        True]), np.array([False,  True,  True, False, False,  True, False, False,  True,\n",
    "       False]), np.array([False, False,  True, False, False, False, False, False,  True,\n",
    "        True]), np.array([False, False,  True, False,  True, False, False, False, False,\n",
    "       False]), np.array([ True,  True,  True,  True, False, False,  True, False, False,\n",
    "        True]), np.array([False, False, False, False, False, False,  True, False, False,\n",
    "        True]), np.array([ True,  True,  True, False, False,  True, False, False, False,\n",
    "       False]), np.array([False,  True,  True, False, False, False, False, False,  True,\n",
    "       False]), np.array([ True,  True, False,  True, False, False,  True, False, False,\n",
    "       False]), np.array([False, False, False,  True, False, False,  True,  True, False,\n",
    "        True]))\n",
    "```"
   ]
  },
  {
   "cell_type": "code",
   "execution_count": 67,
   "metadata": {},
   "outputs": [],
   "source": [
    "PROBLEM_SIZE = 100  #numero di elementi in ogni array\n",
    "NUM_SETS = 200  #numero di array\n",
    "# SETS = (np.array([False,  True, False,  True, False, False, False, False, False,\n",
    "#        False]), np.array([ True,  True, False, False, False, False, False,  True, False,\n",
    "#         True]), np.array([ True, False,  True, False,  True, False, False, False,  True,\n",
    "#        False]), np.array([False,  True, False, False, False, False, False,  True, False,\n",
    "#         True]), np.array([ True,  True,  True,  True, False, False, False,  True, False,\n",
    "#        False]), np.array([False, False, False,  True, False, False, False, False, False,\n",
    "#        False]), np.array([False, False, False, False, False, False,  True, False, False,\n",
    "#        False]), np.array([ True, False,  True, False, False, False, False, False, False,\n",
    "#        False]), np.array([False,  True,  True,  True,  True, False, False, False,  True,\n",
    "#        False]), np.array([False, False, False, False, False, False, False, False, False,\n",
    "#        False]), np.array([False, False,  True, False, False, False,  True, False, False,\n",
    "#         True]), np.array([False,  True,  True, False, False,  True, False, False,  True,\n",
    "#        False]), np.array([False, False,  True, False, False, False, False, False,  True,\n",
    "#         True]), np.array([False, False,  True, False,  True, False, False, False, False,\n",
    "#        False]), np.array([ True,  True,  True,  True, False, False,  True, False, False,\n",
    "#         True]), np.array([False, False, False, False, False, False,  True, False, False,\n",
    "#         True]), np.array([ True,  True,  True, False, False,  True, False, False, False,\n",
    "#        False]), np.array([False,  True,  True, False, False, False, False, False,  True,\n",
    "#        False]), np.array([ True,  True, False,  True, False, False,  True, False, False,\n",
    "#        False]), np.array([False, False, False,  True, False, False,  True,  True, False,\n",
    "#         True]))\n",
    "\n",
    "SETS = tuple(np.array([random() < 0.2 for _ in range(PROBLEM_SIZE)]) for _ in range(NUM_SETS))\n",
    "\n",
    "State = namedtuple('State', ['taken', 'not_taken'])\n"
   ]
  },
  {
   "cell_type": "code",
   "execution_count": 68,
   "metadata": {},
   "outputs": [],
   "source": [
    "\n",
    "def covered(state):\n",
    "    return reduce(\n",
    "        np.logical_or,\n",
    "        [SETS[i] for i in state.taken],\n",
    "        np.array([False for _ in range(PROBLEM_SIZE)]),\n",
    "    )\n",
    "\n",
    "\n",
    "def goal_check(state):\n",
    "    return np.all(covered(state))"
   ]
  },
  {
   "cell_type": "code",
   "execution_count": 69,
   "metadata": {},
   "outputs": [],
   "source": [
    "assert goal_check(\n",
    "    State(set(range(NUM_SETS)), set())\n",
    "), \"Probelm not solvable\""
   ]
  },
  {
   "cell_type": "code",
   "execution_count": 70,
   "metadata": {},
   "outputs": [],
   "source": [
    "\n",
    "def h1(state):\n",
    "    largest_set_size = max(sum(s) for s in SETS)\n",
    "    missing_size = PROBLEM_SIZE - sum(covered(state))\n",
    "    optimistic_estimate = ceil(missing_size / largest_set_size)\n",
    "    return optimistic_estimate\n",
    "\n",
    "\n",
    "def h2(state):\n",
    "    already_covered = covered(state)\n",
    "    if np.all(already_covered):\n",
    "        return 0\n",
    "    largest_set_size = max(sum(np.logical_and(s, np.logical_not(already_covered))) for s in SETS)\n",
    "    missing_size = PROBLEM_SIZE - sum(already_covered)\n",
    "    optimistic_estimate = ceil(missing_size / largest_set_size)\n",
    "    return optimistic_estimate\n",
    "\n",
    "\n",
    "def h3(state):\n",
    "    already_covered = covered(state)\n",
    "    if np.all(already_covered):\n",
    "        return 0\n",
    "    missing_size = PROBLEM_SIZE - sum(already_covered)\n",
    "    candidates = sorted((sum(np.logical_and(s, np.logical_not(already_covered))) for s in SETS), reverse=True)\n",
    "    taken = 1\n",
    "    while sum(candidates[:taken]) < missing_size:\n",
    "        taken += 1\n",
    "    return taken\n",
    "\n",
    "\n",
    "def distance(state):\n",
    "    return len(state.taken) + h3(state)"
   ]
  },
  {
   "cell_type": "markdown",
   "metadata": {},
   "source": [
    "Result of execution are:\n",
    " - h1 resolve it in 85 steps\n",
    " - h2 resolve it in 9 steps\n",
    " - h3 resolve it in 9 steps"
   ]
  },
  {
   "cell_type": "code",
   "execution_count": 71,
   "metadata": {},
   "outputs": [
    {
     "ename": "KeyboardInterrupt",
     "evalue": "",
     "output_type": "error",
     "traceback": [
      "\u001b[0;31m---------------------------------------------------------------------------\u001b[0m",
      "\u001b[0;31mKeyboardInterrupt\u001b[0m                         Traceback (most recent call last)",
      "\u001b[1;32m/Users/alessiaintini/Documents/università/computationalIntelligence/Computational_Intelligence/lab01/set-covering.ipynb Cella 9\u001b[0m line \u001b[0;36m1\n\u001b[1;32m     <a href='vscode-notebook-cell:/Users/alessiaintini/Documents/universit%C3%A0/computationalIntelligence/Computational_Intelligence/lab01/set-covering.ipynb#W6sZmlsZQ%3D%3D?line=10'>11</a>\u001b[0m     \u001b[39mfor\u001b[39;00m action \u001b[39min\u001b[39;00m current_state[\u001b[39m1\u001b[39m]:\n\u001b[1;32m     <a href='vscode-notebook-cell:/Users/alessiaintini/Documents/universit%C3%A0/computationalIntelligence/Computational_Intelligence/lab01/set-covering.ipynb#W6sZmlsZQ%3D%3D?line=11'>12</a>\u001b[0m         new_state \u001b[39m=\u001b[39m State(\n\u001b[1;32m     <a href='vscode-notebook-cell:/Users/alessiaintini/Documents/universit%C3%A0/computationalIntelligence/Computational_Intelligence/lab01/set-covering.ipynb#W6sZmlsZQ%3D%3D?line=12'>13</a>\u001b[0m             current_state\u001b[39m.\u001b[39mtaken \u001b[39m^\u001b[39m {action},\n\u001b[1;32m     <a href='vscode-notebook-cell:/Users/alessiaintini/Documents/universit%C3%A0/computationalIntelligence/Computational_Intelligence/lab01/set-covering.ipynb#W6sZmlsZQ%3D%3D?line=13'>14</a>\u001b[0m             current_state\u001b[39m.\u001b[39mnot_taken \u001b[39m^\u001b[39m {action},\n\u001b[1;32m     <a href='vscode-notebook-cell:/Users/alessiaintini/Documents/universit%C3%A0/computationalIntelligence/Computational_Intelligence/lab01/set-covering.ipynb#W6sZmlsZQ%3D%3D?line=14'>15</a>\u001b[0m         )\n\u001b[0;32m---> <a href='vscode-notebook-cell:/Users/alessiaintini/Documents/universit%C3%A0/computationalIntelligence/Computational_Intelligence/lab01/set-covering.ipynb#W6sZmlsZQ%3D%3D?line=15'>16</a>\u001b[0m         frontier\u001b[39m.\u001b[39mput((distance(new_state), new_state))\n\u001b[1;32m     <a href='vscode-notebook-cell:/Users/alessiaintini/Documents/universit%C3%A0/computationalIntelligence/Computational_Intelligence/lab01/set-covering.ipynb#W6sZmlsZQ%3D%3D?line=16'>17</a>\u001b[0m     _, current_state \u001b[39m=\u001b[39m frontier\u001b[39m.\u001b[39mget()\n\u001b[1;32m     <a href='vscode-notebook-cell:/Users/alessiaintini/Documents/universit%C3%A0/computationalIntelligence/Computational_Intelligence/lab01/set-covering.ipynb#W6sZmlsZQ%3D%3D?line=18'>19</a>\u001b[0m \u001b[39mprint\u001b[39m(\n\u001b[1;32m     <a href='vscode-notebook-cell:/Users/alessiaintini/Documents/universit%C3%A0/computationalIntelligence/Computational_Intelligence/lab01/set-covering.ipynb#W6sZmlsZQ%3D%3D?line=19'>20</a>\u001b[0m     \u001b[39mf\u001b[39m\u001b[39m\"\u001b[39m\u001b[39mSolved in \u001b[39m\u001b[39m{\u001b[39;00mcounter\u001b[39m:\u001b[39;00m\u001b[39m,\u001b[39m\u001b[39m}\u001b[39;00m\u001b[39m steps (\u001b[39m\u001b[39m{\u001b[39;00m\u001b[39mlen\u001b[39m(current_state\u001b[39m.\u001b[39mtaken)\u001b[39m}\u001b[39;00m\u001b[39m tiles)\u001b[39m\u001b[39m\"\u001b[39m\n\u001b[1;32m     <a href='vscode-notebook-cell:/Users/alessiaintini/Documents/universit%C3%A0/computationalIntelligence/Computational_Intelligence/lab01/set-covering.ipynb#W6sZmlsZQ%3D%3D?line=20'>21</a>\u001b[0m )\n",
      "\u001b[1;32m/Users/alessiaintini/Documents/università/computationalIntelligence/Computational_Intelligence/lab01/set-covering.ipynb Cella 9\u001b[0m line \u001b[0;36m3\n\u001b[1;32m     <a href='vscode-notebook-cell:/Users/alessiaintini/Documents/universit%C3%A0/computationalIntelligence/Computational_Intelligence/lab01/set-covering.ipynb#W6sZmlsZQ%3D%3D?line=29'>30</a>\u001b[0m \u001b[39mdef\u001b[39;00m \u001b[39mdistance\u001b[39m(state):\n\u001b[0;32m---> <a href='vscode-notebook-cell:/Users/alessiaintini/Documents/universit%C3%A0/computationalIntelligence/Computational_Intelligence/lab01/set-covering.ipynb#W6sZmlsZQ%3D%3D?line=30'>31</a>\u001b[0m     \u001b[39mreturn\u001b[39;00m \u001b[39mlen\u001b[39m(state\u001b[39m.\u001b[39mtaken) \u001b[39m+\u001b[39m h3(state)\n",
      "\u001b[1;32m/Users/alessiaintini/Documents/università/computationalIntelligence/Computational_Intelligence/lab01/set-covering.ipynb Cella 9\u001b[0m line \u001b[0;36m2\n\u001b[1;32m     <a href='vscode-notebook-cell:/Users/alessiaintini/Documents/universit%C3%A0/computationalIntelligence/Computational_Intelligence/lab01/set-covering.ipynb#W6sZmlsZQ%3D%3D?line=20'>21</a>\u001b[0m     \u001b[39mreturn\u001b[39;00m \u001b[39m0\u001b[39m\n\u001b[1;32m     <a href='vscode-notebook-cell:/Users/alessiaintini/Documents/universit%C3%A0/computationalIntelligence/Computational_Intelligence/lab01/set-covering.ipynb#W6sZmlsZQ%3D%3D?line=21'>22</a>\u001b[0m missing_size \u001b[39m=\u001b[39m PROBLEM_SIZE \u001b[39m-\u001b[39m \u001b[39msum\u001b[39m(already_covered)\n\u001b[0;32m---> <a href='vscode-notebook-cell:/Users/alessiaintini/Documents/universit%C3%A0/computationalIntelligence/Computational_Intelligence/lab01/set-covering.ipynb#W6sZmlsZQ%3D%3D?line=22'>23</a>\u001b[0m candidates \u001b[39m=\u001b[39m \u001b[39msorted\u001b[39;49m((\u001b[39msum\u001b[39;49m(np\u001b[39m.\u001b[39;49mlogical_and(s, np\u001b[39m.\u001b[39;49mlogical_not(already_covered))) \u001b[39mfor\u001b[39;49;00m s \u001b[39min\u001b[39;49;00m SETS), reverse\u001b[39m=\u001b[39;49m\u001b[39mTrue\u001b[39;49;00m)\n\u001b[1;32m     <a href='vscode-notebook-cell:/Users/alessiaintini/Documents/universit%C3%A0/computationalIntelligence/Computational_Intelligence/lab01/set-covering.ipynb#W6sZmlsZQ%3D%3D?line=23'>24</a>\u001b[0m taken \u001b[39m=\u001b[39m \u001b[39m1\u001b[39m\n\u001b[1;32m     <a href='vscode-notebook-cell:/Users/alessiaintini/Documents/universit%C3%A0/computationalIntelligence/Computational_Intelligence/lab01/set-covering.ipynb#W6sZmlsZQ%3D%3D?line=24'>25</a>\u001b[0m \u001b[39mwhile\u001b[39;00m \u001b[39msum\u001b[39m(candidates[:taken]) \u001b[39m<\u001b[39m missing_size:\n",
      "\u001b[1;32m/Users/alessiaintini/Documents/università/computationalIntelligence/Computational_Intelligence/lab01/set-covering.ipynb Cella 9\u001b[0m line \u001b[0;36m2\n\u001b[1;32m     <a href='vscode-notebook-cell:/Users/alessiaintini/Documents/universit%C3%A0/computationalIntelligence/Computational_Intelligence/lab01/set-covering.ipynb#W6sZmlsZQ%3D%3D?line=20'>21</a>\u001b[0m     \u001b[39mreturn\u001b[39;00m \u001b[39m0\u001b[39m\n\u001b[1;32m     <a href='vscode-notebook-cell:/Users/alessiaintini/Documents/universit%C3%A0/computationalIntelligence/Computational_Intelligence/lab01/set-covering.ipynb#W6sZmlsZQ%3D%3D?line=21'>22</a>\u001b[0m missing_size \u001b[39m=\u001b[39m PROBLEM_SIZE \u001b[39m-\u001b[39m \u001b[39msum\u001b[39m(already_covered)\n\u001b[0;32m---> <a href='vscode-notebook-cell:/Users/alessiaintini/Documents/universit%C3%A0/computationalIntelligence/Computational_Intelligence/lab01/set-covering.ipynb#W6sZmlsZQ%3D%3D?line=22'>23</a>\u001b[0m candidates \u001b[39m=\u001b[39m \u001b[39msorted\u001b[39m((\u001b[39msum\u001b[39;49m(np\u001b[39m.\u001b[39;49mlogical_and(s, np\u001b[39m.\u001b[39;49mlogical_not(already_covered))) \u001b[39mfor\u001b[39;00m s \u001b[39min\u001b[39;00m SETS), reverse\u001b[39m=\u001b[39m\u001b[39mTrue\u001b[39;00m)\n\u001b[1;32m     <a href='vscode-notebook-cell:/Users/alessiaintini/Documents/universit%C3%A0/computationalIntelligence/Computational_Intelligence/lab01/set-covering.ipynb#W6sZmlsZQ%3D%3D?line=23'>24</a>\u001b[0m taken \u001b[39m=\u001b[39m \u001b[39m1\u001b[39m\n\u001b[1;32m     <a href='vscode-notebook-cell:/Users/alessiaintini/Documents/universit%C3%A0/computationalIntelligence/Computational_Intelligence/lab01/set-covering.ipynb#W6sZmlsZQ%3D%3D?line=24'>25</a>\u001b[0m \u001b[39mwhile\u001b[39;00m \u001b[39msum\u001b[39m(candidates[:taken]) \u001b[39m<\u001b[39m missing_size:\n",
      "\u001b[0;31mKeyboardInterrupt\u001b[0m: "
     ]
    }
   ],
   "source": [
    "# frontier = PriorityQueue()\n",
    "frontier = PriorityQueue()\n",
    "#set() crea un set di oggetti\n",
    "state = State(set(), set(range(NUM_SETS))) #State(taken=set(), not_taken={0, 1, 2, 3, 4, 5, 6, 7, 8, 9, 10, 11, 12, 13, 14, 15, 16, 17, 18, 19})\n",
    "frontier.put((distance(state), state)) #(10, State(taken=set(), not_taken={0, 1, 2, 3, 4, 5, 6, 7, 8, 9, 10, 11, 12, 13, 14, 15, 16, 17, 18, 19}))\n",
    "\n",
    "counter = 0\n",
    "_, current_state = frontier.get()\n",
    "while not goal_check(current_state): \n",
    "    counter += 1 #quante operazioni ci sono volute\n",
    "    for action in current_state[1]:\n",
    "        new_state = State(\n",
    "            current_state.taken ^ {action},\n",
    "            current_state.not_taken ^ {action},\n",
    "        )\n",
    "        frontier.put((distance(new_state), new_state))\n",
    "    _, current_state = frontier.get()\n",
    "\n",
    "print(\n",
    "    f\"Solved in {counter:,} steps ({len(current_state.taken)} tiles)\"\n",
    ")"
   ]
  },
  {
   "cell_type": "code",
   "execution_count": null,
   "metadata": {},
   "outputs": [
    {
     "data": {
      "text/plain": [
       "State(taken={2, 110, 54}, not_taken={0, 1, 3, 4, 5, 6, 7, 8, 9, 10, 11, 12, 13, 14, 15, 16, 17, 18, 19, 20, 21, 22, 23, 24, 25, 26, 27, 28, 29, 30, 31, 32, 33, 34, 35, 36, 37, 38, 39, 40, 41, 42, 43, 44, 45, 46, 47, 48, 49, 50, 51, 52, 53, 55, 56, 57, 58, 59, 60, 61, 62, 63, 64, 65, 66, 67, 68, 69, 70, 71, 72, 73, 74, 75, 76, 77, 78, 79, 80, 81, 82, 83, 84, 85, 86, 87, 88, 89, 90, 91, 92, 93, 94, 95, 96, 97, 98, 99, 100, 101, 102, 103, 104, 105, 106, 107, 108, 109, 111, 112, 113, 114, 115, 116, 117, 118, 119, 120, 121, 122, 123, 124, 125, 126, 127, 128, 129, 130, 131, 132, 133, 134, 135, 136, 137, 138, 139, 140, 141, 142, 143, 144, 145, 146, 147, 148, 149, 150, 151, 152, 153, 154, 155, 156, 157, 158, 159, 160, 161, 162, 163, 164, 165, 166, 167, 168, 169, 170, 171, 172, 173, 174, 175, 176, 177, 178, 179, 180, 181, 182, 183, 184, 185, 186, 187, 188, 189, 190, 191, 192, 193, 194, 195, 196, 197, 198, 199})"
      ]
     },
     "execution_count": 64,
     "metadata": {},
     "output_type": "execute_result"
    }
   ],
   "source": [
    "current_state"
   ]
  },
  {
   "cell_type": "code",
   "execution_count": null,
   "metadata": {},
   "outputs": [
    {
     "data": {
      "text/plain": [
       "array([False, False, False, False, False, False, False, False, False,\n",
       "       False])"
      ]
     },
     "execution_count": 65,
     "metadata": {},
     "output_type": "execute_result"
    }
   ],
   "source": [
    "SETS[0]"
   ]
  }
 ],
 "metadata": {
  "kernelspec": {
   "display_name": "ci-P-7LqQ3C-py3.11",
   "language": "python",
   "name": "python3"
  },
  "language_info": {
   "codemirror_mode": {
    "name": "ipython",
    "version": 3
   },
   "file_extension": ".py",
   "mimetype": "text/x-python",
   "name": "python",
   "nbconvert_exporter": "python",
   "pygments_lexer": "ipython3",
   "version": "3.10.10"
  }
 },
 "nbformat": 4,
 "nbformat_minor": 2
}
